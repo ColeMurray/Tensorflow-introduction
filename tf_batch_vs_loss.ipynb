{
 "cells": [
  {
   "cell_type": "code",
   "execution_count": 4,
   "metadata": {
    "collapsed": false,
    "deletable": true,
    "editable": true
   },
   "outputs": [],
   "source": [
    "\"\"\"\n",
    "Notebook demonstrating difference between stochastic/batch using Tensorflow\n",
    "\"\"\"\n",
    "\n",
    "import tensorflow as tf\n",
    "import numpy as np\n",
    "\n",
    "batch_size = 10\n",
    "learning_rate = 0.01\n",
    "\n",
    "x_vals = np.random.normal(1, 0.1, 100)\n",
    "y_vals = np.repeat(10., 100)\n",
    "\n",
    "x = tf.placeholder(shape=[None, 1], dtype=tf.float32)\n",
    "y = tf.placeholder(shape=[None, 1], dtype=tf.float32)\n",
    "\n",
    "W = tf.Variable(tf.random_normal(shape=[1,1]))\n",
    "\n",
    "pred = tf.matmul(x,W)\n",
    "loss = tf.reduce_mean(tf.square(pred - y))\n",
    "optimizer = tf.train.GradientDescentOptimizer(learning_rate)\n",
    "\n",
    "train_step = optimizer.minimize(loss)\n",
    "init = tf.global_variables_initializer()"
   ]
  },
  {
   "cell_type": "code",
   "execution_count": 5,
   "metadata": {
    "collapsed": false,
    "deletable": true,
    "editable": true
   },
   "outputs": [
    {
     "name": "stdout",
     "output_type": "stream",
     "text": [
      "('Epoch 4 ', 'Loss: 91.4676')\n",
      "('Epoch 9 ', 'Loss: 74.0777')\n",
      "('Epoch 14 ', 'Loss: 60.883')\n",
      "('Epoch 19 ', 'Loss: 49.4134')\n",
      "('Epoch 24 ', 'Loss: 40.8692')\n",
      "('Epoch 29 ', 'Loss: 33.4948')\n",
      "('Epoch 34 ', 'Loss: 27.2766')\n",
      "('Epoch 39 ', 'Loss: 22.8306')\n",
      "('Epoch 44 ', 'Loss: 16.9894')\n",
      "('Epoch 49 ', 'Loss: 15.1194')\n",
      "('Epoch 54 ', 'Loss: 13.1444')\n",
      "('Epoch 59 ', 'Loss: 11.107')\n",
      "('Epoch 64 ', 'Loss: 8.33634')\n",
      "('Epoch 69 ', 'Loss: 7.42707')\n",
      "('Epoch 74 ', 'Loss: 7.38262')\n",
      "('Epoch 79 ', 'Loss: 4.66207')\n",
      "('Epoch 84 ', 'Loss: 3.65245')\n",
      "('Epoch 89 ', 'Loss: 2.63413')\n",
      "('Epoch 94 ', 'Loss: 3.7357')\n",
      "('Epoch 99 ', 'Loss: 4.36837')\n",
      "\n",
      "\n",
      "\n",
      "('Epoch 4 ', 'Loss: 49.4551')\n",
      "('Epoch 9 ', 'Loss: 45.1837')\n",
      "('Epoch 14 ', 'Loss: 38.9519')\n",
      "('Epoch 19 ', 'Loss: 18.5001')\n",
      "('Epoch 24 ', 'Loss: 22.0467')\n",
      "('Epoch 29 ', 'Loss: 9.16669')\n",
      "('Epoch 34 ', 'Loss: 11.8782')\n",
      "('Epoch 39 ', 'Loss: 26.9527')\n",
      "('Epoch 44 ', 'Loss: 9.18346')\n",
      "('Epoch 49 ', 'Loss: 15.2523')\n",
      "('Epoch 54 ', 'Loss: 7.49653')\n",
      "('Epoch 59 ', 'Loss: 5.74616')\n",
      "('Epoch 64 ', 'Loss: 4.47312')\n",
      "('Epoch 69 ', 'Loss: 2.94617')\n",
      "('Epoch 74 ', 'Loss: 3.56417')\n",
      "('Epoch 79 ', 'Loss: 1.1723')\n",
      "('Epoch 84 ', 'Loss: 0.0276975')\n",
      "('Epoch 89 ', 'Loss: 0.737056')\n",
      "('Epoch 94 ', 'Loss: 0.274639')\n",
      "('Epoch 99 ', 'Loss: 3.92844')\n"
     ]
    }
   ],
   "source": [
    "loss_batch = []\n",
    "with tf.Session() as sess:\n",
    "    sess.run(init)\n",
    "    for i in range(100):\n",
    "        rand_idx = np.random.choice(100, size=batch_size)\n",
    "        rand_x = np.transpose([x_vals[rand_idx]])\n",
    "        rand_y = np.transpose([y_vals[rand_idx]])\n",
    "        sess.run(train_step, feed_dict = {x: rand_x, y: rand_y})\n",
    "        temp_loss = sess.run(loss, feed_dict = {x: rand_x, y: rand_y})\n",
    "        \n",
    "        if (i+1) % 5 == 0:\n",
    "            print('Epoch %d ' % i,  'Loss: %s' % temp_loss)\n",
    "            \n",
    "        loss_batch.append(temp_loss)\n",
    "        \n",
    "print('\\n\\n')\n",
    "loss_stochastic = []\n",
    "with tf.Session() as sess:\n",
    "    sess.run(init)\n",
    "    for i in range(100):\n",
    "        rand_idx = np.random.choice(100, size=1)\n",
    "        rand_x = np.transpose([x_vals[rand_idx]])\n",
    "        rand_y = np.transpose([y_vals[rand_idx]])\n",
    "        sess.run(train_step, feed_dict = {x: rand_x, y: rand_y})\n",
    "        temp_loss = sess.run(loss, feed_dict = {x: rand_x, y: rand_y})\n",
    "        \n",
    "        if (i+1) % 5 == 0:\n",
    "            print('Epoch %d ' % i,  'Loss: %s' % temp_loss)\n",
    "            \n",
    "        loss_stochastic.append(temp_loss)\n",
    "        \n",
    "    \n",
    "    \n",
    "    "
   ]
  },
  {
   "cell_type": "code",
   "execution_count": 6,
   "metadata": {
    "collapsed": false,
    "deletable": true,
    "editable": true
   },
   "outputs": [
    {
     "data": {
      "image/png": "[encoded data removed]",
      "text/plain": [
       "<matplotlib.figure.Figure at 0x107a90c10>"
      ]
     },
     "metadata": {},
     "output_type": "display_data"
    }
   ],
   "source": [
    "import matplotlib.pyplot as plt\n",
    "%matplotlib inline\n",
    "\n",
    "plt.plot(range(0, 100, 1), loss_batch, 'b-', label='Batch Loss')\n",
    "plt.plot(range(0,100,1), loss_stochastic, 'r--', label='Stochastic Loss')\n",
    "plt.legend(loc='upper right', prop={'size': 11})\n",
    "plt.show()"
   ]
  },
  {
   "cell_type": "code",
   "execution_count": null,
   "metadata": {
    "collapsed": true,
    "deletable": true,
    "editable": true
   },
   "outputs": [],
   "source": []
  }
 ],
 "metadata": {
  "kernelspec": {
   "display_name": "Python 2",
   "language": "python",
   "name": "python2"
  },
  "language_info": {
   "codemirror_mode": {
    "name": "ipython",
    "version": 2
   },
   "file_extension": ".py",
   "mimetype": "text/x-python",
   "name": "python",
   "nbconvert_exporter": "python",
   "pygments_lexer": "ipython2",
   "version": "2.7.10"
  }
 },
 "nbformat": 4,
 "nbformat_minor": 2
}
