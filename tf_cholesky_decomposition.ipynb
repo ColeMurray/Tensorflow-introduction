{
 "cells": [
  {
   "cell_type": "markdown",
   "metadata": {},
   "source": [
    "### Solving Linear regression using Cholesky Decomposition\n",
    "\n",
    "A linear regression problem takes the form of \n",
    "\n",
    "\n",
    "$ Ax = b $\n",
    "\n",
    "We can solve for x such that\n",
    "\n",
    "$ A^{T}Ax = bA^{T}$\n",
    "\n",
    "$ x = (A^{T}A)^{-1}A^{T}b $\n",
    "\n",
    "This can be computational expensive to calculate over large matrices.\n",
    "\n",
    "Instead, we can use cholesky's decomposition to solve. Cholesky's decomposition allows us to\n",
    "decompose A into lower and upper triangular matrices.\n",
    "\n",
    "$Ax = b $\n",
    "\n",
    "$ LL'x = b $\n",
    "\n",
    "Using substitution, we can solve\n",
    "\n",
    "$ Ly = b $\n",
    "\n",
    "$ L'x = y $\n",
    "\n",
    "to arrive at x\n",
    "\n"
   ]
  },
  {
   "cell_type": "code",
   "execution_count": 58,
   "metadata": {
    "collapsed": false
   },
   "outputs": [
    {
     "name": "stdout",
     "output_type": "stream",
     "text": [
      "('Slope: 0.9623 ', 'Y int: 0.2503')\n"
     ]
    },
    {
     "data": {
      "image/png": "[encoded data removed]",
      "text/plain": [
       "<matplotlib.figure.Figure at 0x104bb01d0>"
      ]
     },
     "metadata": {},
     "output_type": "display_data"
    }
   ],
   "source": [
    "import numpy as np\n",
    "import tensorflow as tf\n",
    "import matplotlib.pyplot as plt\n",
    "%matplotlib inline\n",
    "\n",
    "x_vals = np.linspace(0,10,100)\n",
    "y_vals = x_vals + np.random.normal(0,1,100)\n",
    "\n",
    "A = tf.constant(np.column_stack((np.transpose(np.matrix(x_vals)), np.transpose(np.matrix(np.repeat(1,100))))))\n",
    "b = tf.constant(np.transpose(np.matrix(y_vals)))\n",
    "\n",
    "tA_A = tf.matmul(tf.transpose(A), A)\n",
    "L = tf.cholesky(tA_A)\n",
    "tA_b = tf.matmul(tf.transpose(A), b)\n",
    "\n",
    "sol1 = tf.matrix_solve(L, tA_b)\n",
    "sol2 = tf.matrix_solve(tf.transpose(L), sol1)\n",
    "\n",
    "\n",
    "with tf.Session() as session:\n",
    "    s2 = session.run(sol2)\n",
    "    slope = s2[0][0]\n",
    "    y_int = s2[1][0]\n",
    "    \n",
    "    print('Slope: %0.4f ' % slope, 'Y int: %0.4f' % y_int)\n",
    "    \n",
    "\n",
    "\n",
    "best_fit = []\n",
    "for i in x_vals:\n",
    "    best_fit.append(slope*i+y_int)\n",
    "plt.plot(x_vals, y_vals, 'o', label='Data')\n",
    "plt.plot(x_vals, best_fit, 'r-', label='Best fit line',\n",
    "linewidth=3)\n",
    "plt.legend(loc='upper left')\n",
    "plt.show()"
   ]
  },
  {
   "cell_type": "markdown",
   "metadata": {},
   "source": [
    "## What we did\n",
    "\n",
    "Using cholesky's decomposition, we found a line of best fit for our points. This decomposition is numerically stable and more efficient.\n",
    "\n",
    "<img src=\"https://media.giphy.com/media/k1SuVPEuA89S8/giphy.gif\"/>"
   ]
  },
  {
   "cell_type": "markdown",
   "metadata": {},
   "source": [
    "## The Tensorflow Way\n",
    "\n",
    "In the next section, we'll compute linear regression using tensorflows api rather than numpy calculations.\n"
   ]
  },
  {
   "cell_type": "code",
   "execution_count": 59,
   "metadata": {
    "collapsed": false
   },
   "outputs": [
    {
     "name": "stdout",
     "output_type": "stream",
     "text": [
      "('Epoch 19 ', 'Loss 1.409213')\n",
      "('Epoch 39 ', 'Loss 0.134547')\n",
      "('Epoch 59 ', 'Loss 0.873369')\n",
      "('Epoch 79 ', 'Loss 1.224619')\n",
      "('Epoch 99 ', 'Loss 1.082709')\n",
      "('Slope: 1.0229 ', 'Y int: -0.0860')\n"
     ]
    },
    {
     "data": {
      "image/png": "[encoded data removed]",
      "text/plain": [
       "<matplotlib.figure.Figure at 0x10e4e2310>"
      ]
     },
     "metadata": {},
     "output_type": "display_data"
    }
   ],
   "source": [
    "batch_size = 5\n",
    "learning_rate = 0.01\n",
    "epochs = 100\n",
    "\n",
    "tf.reset_default_graph()\n",
    "\n",
    "input_x = np.linspace(0, 10, 100)\n",
    "input_y = input_x + np.random.normal(0, 1, 100)\n",
    "\n",
    "x = tf.placeholder(shape=[None, 1], dtype=tf.float32)\n",
    "y = tf.placeholder(shape=[None,1], dtype=tf.float32)\n",
    "\n",
    "W = tf.Variable(tf.random_normal(shape=[1,1]))\n",
    "b = tf.Variable(tf.random_normal(shape=[1,1]))\n",
    "\n",
    "y_pred = tf.add(tf.matmul(x,W), b)\n",
    "loss = tf.reduce_mean(tf.square(y - y_pred))\n",
    "\n",
    "train_step = tf.train.GradientDescentOptimizer(learning_rate).minimize(loss)\n",
    "\n",
    "with tf.Session() as sess:\n",
    "    sess.run(tf.global_variables_initializer())\n",
    "    for epoch in range(epochs):\n",
    "        random_idx = np.random.choice(len(input_x), size=batch_size)\n",
    "        rand_x = np.transpose([input_x[random_idx]])\n",
    "        rand_y = np.transpose([input_y[random_idx]])\n",
    "        \n",
    "        sess.run(train_step, feed_dict={x: rand_x, y: rand_y})\n",
    "        cost = sess.run(loss, feed_dict={x: rand_x, y: rand_y})\n",
    "        \n",
    "        if (epoch + 1) % 20 == 0:\n",
    "            print('Epoch %d ' % epoch, 'Loss %f' % cost )\n",
    "            \n",
    "    [slope] = sess.run(W)\n",
    "    [y_intercept] = sess.run(b)\n",
    "    \n",
    "    print('Slope: %0.4f ' % slope, 'Y int: %0.4f' % y_intercept)\n",
    "    best_fit = []\n",
    "    for i in input_x:\n",
    "        best_fit.append(slope*i+y_intercept)\n",
    "        \n",
    "    plt.plot(input_x, input_y, 'o', label='Data Points')\n",
    "    plt.plot(input_x, best_fit, 'r-', label='Best fit line',\n",
    "    linewidth=3)\n",
    "    plt.legend(loc='upper left')\n",
    "    plt.xlabel('X')\n",
    "    plt.ylabel('Y')\n",
    "    plt.show()\n",
    "    "
   ]
  },
  {
   "cell_type": "markdown",
   "metadata": {},
   "source": [
    "## What Did We Do?\n",
    "\n",
    "In the above, we calculated a line of best fit using gradient descent. While this line does fit well, gradient descent does not guarantee it is the best fitting line. Gradient descent can be thought of as descending down a hill in the steepest direction. Due to this, we can get stuck in a local minimum rather than the global mininum.\n",
    "\n",
    "You can experiment with observing the loss by playing around with the hyperparameters (learning_rate, batch_size)\n",
    "\n",
    "<img src=\"https://media.giphy.com/media/ZjsCVZX5l1K1y/giphy.gif\"/>\n",
    "\n"
   ]
  },
  {
   "cell_type": "code",
   "execution_count": null,
   "metadata": {
    "collapsed": true
   },
   "outputs": [],
   "source": []
  }
 ],
 "metadata": {
  "kernelspec": {
   "display_name": "Python 2",
   "language": "python",
   "name": "python2"
  },
  "language_info": {
   "codemirror_mode": {
    "name": "ipython",
    "version": 2
   },
   "file_extension": ".py",
   "mimetype": "text/x-python",
   "name": "python",
   "nbconvert_exporter": "python",
   "pygments_lexer": "ipython2",
   "version": "2.7.10"
  }
 },
 "nbformat": 4,
 "nbformat_minor": 2
}
